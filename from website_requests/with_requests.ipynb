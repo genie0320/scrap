{
  "nbformat": 4,
  "nbformat_minor": 0,
  "metadata": {
    "colab": {
      "provenance": [],
      "authorship_tag": "ABX9TyNzgZspkj5vpbAIzz2B5o3K",
      "include_colab_link": true
    },
    "kernelspec": {
      "name": "python3",
      "display_name": "Python 3"
    },
    "language_info": {
      "name": "python"
    }
  },
  "cells": [
    {
      "cell_type": "markdown",
      "metadata": {
        "id": "view-in-github",
        "colab_type": "text"
      },
      "source": [
        "<a href=\"https://colab.research.google.com/github/genie0320/scrap/blob/main/from%20website_requests/with_requests.ipynb\" target=\"_parent\"><img src=\"https://colab.research.google.com/assets/colab-badge.svg\" alt=\"Open In Colab\"/></a>"
      ]
    },
    {
      "cell_type": "code",
      "execution_count": 109,
      "metadata": {
        "id": "KUHVBRJ8A68B"
      },
      "outputs": [],
      "source": [
        "# !pip install bs4\n",
        "# !pip install icecream"
      ]
    },
    {
      "cell_type": "code",
      "source": [
        "import requests\n",
        "from bs4 import BeautifulSoup as bs4\n",
        "from bs4 import SoupStrainer as strainer\n",
        "\n",
        "from icecream import ic"
      ],
      "metadata": {
        "id": "wBm1p7NCMx1X"
      },
      "execution_count": 110,
      "outputs": []
    },
    {
      "cell_type": "code",
      "source": [
        "# get list of tinyllama versions from huggingface.\n",
        "url = 'https://huggingface.co/TinyLlama'\n",
        "response = requests.get(url)\n",
        "\n",
        "models = bs4(response.text, 'html.parser', parse_only=strainer(\"div\", id = 'models'))\n",
        "\n",
        "for model in models.select('h4'):\n",
        "  print(model.text.strip())"
      ],
      "metadata": {
        "id": "11zPIHg2cAT_",
        "colab": {
          "base_uri": "https://localhost:8080/"
        },
        "outputId": "d9e2dbbb-e2b6-45ff-d5d6-ac2b127039fb"
      },
      "execution_count": 122,
      "outputs": [
        {
          "output_type": "stream",
          "name": "stdout",
          "text": [
            "TinyLlama/TinyLlama-1.1B-intermediate-step-1431k-3T\n",
            "TinyLlama/TinyLlama-1.1B-Chat-v1.0\n",
            "TinyLlama/TinyLlama-1.1B-intermediate-step-1195k-token-2.5T\n",
            "TinyLlama/TinyLlama-1.1B-intermediate-step-955k-token-2T\n",
            "TinyLlama/tinyLlama-intermediate-checkpoints-after-1T-token\n",
            "TinyLlama/TinyLlama-1.1B-Chat-v0.6\n",
            "TinyLlama/TinyLlama-1.1B-Chat-v0.5\n",
            "TinyLlama/TinyLlama-1.1B-Chat-v0.4\n",
            "TinyLlama/TinyLlama-1.1B-Chat-v0.3\n",
            "TinyLlama/TinyLlama-1.1B-intermediate-step-715k-1.5T\n"
          ]
        }
      ]
    },
    {
      "cell_type": "code",
      "source": [],
      "metadata": {
        "id": "NsRY-J2XyUJ1"
      },
      "execution_count": null,
      "outputs": []
    }
  ]
}