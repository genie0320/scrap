{
  "nbformat": 4,
  "nbformat_minor": 0,
  "metadata": {
    "colab": {
      "provenance": [],
      "authorship_tag": "ABX9TyPvXoE50PIX4B1PwJyWrIgP",
      "include_colab_link": true
    },
    "kernelspec": {
      "name": "python3",
      "display_name": "Python 3"
    },
    "language_info": {
      "name": "python"
    }
  },
  "cells": [
    {
      "cell_type": "markdown",
      "metadata": {
        "id": "view-in-github",
        "colab_type": "text"
      },
      "source": [
        "<a href=\"https://colab.research.google.com/github/genie0320/scrap/blob/main/simple_html_filter/simple_html_filter.ipynb\" target=\"_parent\"><img src=\"https://colab.research.google.com/assets/colab-badge.svg\" alt=\"Open In Colab\"/></a>"
      ]
    },
    {
      "cell_type": "code",
      "execution_count": null,
      "metadata": {
        "id": "KUHVBRJ8A68B"
      },
      "outputs": [],
      "source": [
        "# !pip install selenium bs4\n",
        "# !pip install icecream"
      ]
    },
    {
      "cell_type": "code",
      "source": [
        "import requests\n",
        "from bs4 import BeautifulSoup as bs4\n",
        "from bs4 import SoupStrainer as strainer\n",
        "import selenium\n",
        "\n",
        "from icecream import ic"
      ],
      "metadata": {
        "id": "wBm1p7NCMx1X"
      },
      "execution_count": null,
      "outputs": []
    },
    {
      "cell_type": "code",
      "source": [
        "url = 'https://huggingface.co/TinyLlama'\n",
        "\n",
        "# page > soup > SoupStrainer\n",
        "res = requests.get(url) # 200\n",
        "\n",
        "page_html = bs4(res.text, \"html.parser\")\n",
        "\n",
        "'''\n",
        "# plain\n",
        "soup_body = bs4(res.text, 'html.parser', parse_only=strainer(\"body\"))\n",
        "\n",
        "# with vari.\n",
        "strain_models = strainer(\"div\", id = 'models')\n",
        "soup_body = bs4(res.text, 'html.parser', parse_only=strain_models)\n",
        "'''"
      ],
      "metadata": {
        "id": "OxuOBx-xO56Q"
      },
      "execution_count": null,
      "outputs": []
    },
    {
      "cell_type": "code",
      "source": [
        "# gat things from html\n",
        "htmls = '''\n",
        "  Copy and past raw html\n",
        "'''\n",
        "models = bs4(htmls, 'html.parser', parse_only=strainer(\"div\", id = 'models'))\n",
        "\n",
        "for model in models.select('h4'):\n",
        "  print(model.text.strip())"
      ],
      "metadata": {
        "id": "11zPIHg2cAT_"
      },
      "execution_count": null,
      "outputs": []
    },
    {
      "cell_type": "code",
      "source": [
        "for model in models.select('h4'):\n",
        "  print(model.text.strip())"
      ],
      "metadata": {
        "id": "B7HRok7ITrbI"
      },
      "execution_count": null,
      "outputs": []
    },
    {
      "cell_type": "code",
      "source": [],
      "metadata": {
        "id": "w-JtowWlTT_9"
      },
      "execution_count": null,
      "outputs": []
    }
  ]
}