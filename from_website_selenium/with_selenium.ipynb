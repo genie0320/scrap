{
  "cells": [
    {
      "cell_type": "markdown",
      "metadata": {
        "colab_type": "text",
        "id": "view-in-github"
      },
      "source": [
        "<a href=\"https://colab.research.google.com/github/genie0320/scrap/blob/main/from_website_selenium/with_selenium.ipynb\" target=\"_parent\"><img src=\"https://colab.research.google.com/assets/colab-badge.svg\" alt=\"Open In Colab\"/></a>"
      ]
    },
    {
      "cell_type": "markdown",
      "metadata": {
        "id": "RUXVl5xxIdX6"
      },
      "source": [
        "Execute below only when you are in colab."
      ]
    },
    {
      "cell_type": "code",
      "execution_count": 1,
      "metadata": {
        "id": "GCiH44jRIM5w"
      },
      "outputs": [],
      "source": [
        "# !apt --fix-broken install\n",
        "# !apt update && apt install chromium-chromedriver"
      ]
    },
    {
      "cell_type": "code",
      "execution_count": 2,
      "metadata": {
        "id": "KUHVBRJ8A68B"
      },
      "outputs": [],
      "source": [
        "# !pip install --quiet bs4 selenium webdriver-manager\n",
        "# !pip install --quiet icecream"
      ]
    },
    {
      "cell_type": "code",
      "execution_count": 3,
      "metadata": {
        "id": "wBm1p7NCMx1X"
      },
      "outputs": [],
      "source": [
        "from selenium import webdriver\n",
        "from selenium.webdriver.chrome.service import Service as ChromeService\n",
        "from webdriver_manager.chrome import ChromeDriverManager\n",
        "from selenium.webdriver.common.by import By\n",
        "\n",
        "from icecream import ic"
      ]
    },
    {
      "cell_type": "code",
      "execution_count": 7,
      "metadata": {
        "colab": {
          "base_uri": "https://localhost:8080/",
          "height": 35
        },
        "id": "11zPIHg2cAT_",
        "outputId": "44fd66e7-be97-4861-eb04-a487420d4cc0"
      },
      "outputs": [
        {
          "data": {
            "application/vnd.google.colaboratory.intrinsic+json": {
              "type": "string"
            },
            "text/plain": [
              "'TinyLlama (TinyLlama)'"
            ]
          },
          "execution_count": 7,
          "metadata": {},
          "output_type": "execute_result"
        }
      ],
      "source": [
        "# get list of tinyllama versions from huggingface.\n",
        "url = 'https://huggingface.co/TinyLlama'\n",
        "\n",
        "# Set options\n",
        "options = webdriver.ChromeOptions()\n",
        "options.add_argument('--headless') # ensure GUI is off\n",
        "# options.add_experimental_option(\"detach\", True) # Keeping browser open\n",
        "options.add_argument(\"--disable-blink-features=AutomationControlled\") # not robot\n",
        "options.add_argument('--no-sandbox')\n",
        "options.add_argument('--disable-dev-shm-usage')\n",
        "\n",
        "# Set service and update latest chrome driver.\n",
        "# - Local\n",
        "# service=ChromeService(ChromeDriverManager().install())\n",
        "\n",
        "# - colab\n",
        "service=ChromeService()\n",
        "\n",
        "# Start browser\n",
        "response = webdriver.Chrome(service=service, options=options)\n",
        "response.get(url)\n",
        "title = response.title\n",
        "\n",
        "response.implicitly_wait(0.5)\n",
        "\n",
        "title"
      ]
    },
    {
      "cell_type": "code",
      "execution_count": 5,
      "metadata": {
        "colab": {
          "base_uri": "https://localhost:8080/"
        },
        "id": "1UDaqQtGGYhI",
        "outputId": "8e361bbc-c05b-4b6b-8643-7431dfb503f2"
      },
      "outputs": [
        {
          "name": "stdout",
          "output_type": "stream",
          "text": [
            "TinyLlama/TinyLlama-1.1B-intermediate-step-1431k-3T\n",
            "TinyLlama/TinyLlama-1.1B-Chat-v1.0\n",
            "TinyLlama/TinyLlama-1.1B-intermediate-step-1195k-token-2.5T\n",
            "TinyLlama/TinyLlama-1.1B-intermediate-step-955k-token-2T\n",
            "TinyLlama/tinyLlama-intermediate-checkpoints-after-1T-token\n",
            "TinyLlama/TinyLlama-1.1B-Chat-v0.6\n",
            "TinyLlama/TinyLlama-1.1B-Chat-v0.5\n",
            "TinyLlama/TinyLlama-1.1B-Chat-v0.4\n",
            "TinyLlama/TinyLlama-1.1B-Chat-v0.3\n",
            "TinyLlama/TinyLlama-1.1B-intermediate-step-715k-1.5T\n"
          ]
        }
      ],
      "source": [
        "buttons = response.find_elements(By.CSS_SELECTOR, value='#models button')\n",
        "\n",
        "# Locator로 바로 특정 텍스트를 포함하는 버튼을 찾을 수가 없어서 반복문 사용.\n",
        "for btn in buttons:\n",
        "  if btn.text.startswith(\"Expand\"):\n",
        "    button.click()\n",
        "  break\n",
        "\n",
        "models = response.find_element(by=By.ID, value=\"models\")\n",
        "\n",
        "# models = bs4(response.text, 'html.parser', parse_only=strainer(\"div\", id = 'models'))\n",
        "for model in models.find_elements(By.TAG_NAME,value='h4'):\n",
        "  print(model.text.strip())"
      ]
    }
  ],
  "metadata": {
    "colab": {
      "authorship_tag": "ABX9TyOZbRDEDsTC5z+zzkA6dzq/",
      "include_colab_link": true,
      "provenance": []
    },
    "kernelspec": {
      "display_name": "Python 3",
      "name": "python3"
    },
    "language_info": {
      "name": "python"
    }
  },
  "nbformat": 4,
  "nbformat_minor": 0
}
