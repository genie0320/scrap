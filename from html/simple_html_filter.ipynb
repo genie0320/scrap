{
  "cells": [
    {
      "cell_type": "markdown",
      "metadata": {
        "colab_type": "text",
        "id": "view-in-github"
      },
      "source": [
        "<a href=\"https://colab.research.google.com/github/genie0320/scrap/blob/main/from%20html/simple_html_filter.ipynb\" target=\"_parent\"><img src=\"https://colab.research.google.com/assets/colab-badge.svg\" alt=\"Open In Colab\"/></a>"
      ]
    },
    {
      "cell_type": "code",
      "execution_count": null,
      "metadata": {
        "id": "KUHVBRJ8A68B"
      },
      "outputs": [],
      "source": [
        "# !pip install bs4\n",
        "# !pip install icecream"
      ]
    },
    {
      "cell_type": "code",
      "execution_count": null,
      "metadata": {
        "id": "wBm1p7NCMx1X"
      },
      "outputs": [],
      "source": [
        "from bs4 import BeautifulSoup as bs4\n",
        "from bs4 import SoupStrainer as strainer\n",
        "\n",
        "from icecream import ic"
      ]
    },
    {
      "cell_type": "code",
      "execution_count": null,
      "metadata": {
        "id": "11zPIHg2cAT_"
      },
      "outputs": [],
      "source": [
        "# gat things from html\n",
        "htmls = '''\n",
        "  Copy and past raw html\n",
        "'''\n",
        "\n",
        "# gat things from file\n",
        "with open(\"index.html\") as fp:\n",
        "    htmls = bs4(fp).text\n",
        "\n",
        "# Extract\n",
        "models = bs4(htmls, 'html.parser', parse_only=strainer(\"div\", id = 'models'))\n",
        "\n",
        "for model in models.select('h4'):\n",
        "  print(model.text.strip())"
      ]
    }
  ],
  "metadata": {
    "colab": {
      "authorship_tag": "ABX9TyOKD+nR0xg6AA0txQ3+f99n",
      "include_colab_link": true,
      "provenance": []
    },
    "kernelspec": {
      "display_name": "Python 3",
      "name": "python3"
    },
    "language_info": {
      "name": "python"
    }
  },
  "nbformat": 4,
  "nbformat_minor": 0
}
